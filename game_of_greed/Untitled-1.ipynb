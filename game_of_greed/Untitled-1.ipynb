{
 "cells": [
  {
   "cell_type": "code",
   "execution_count": 89,
   "metadata": {},
   "outputs": [
    {
     "name": "stdout",
     "output_type": "stream",
     "text": [
      "a b c\n",
      "2 6 5 6 5 6\n"
     ]
    }
   ],
   "source": [
    "letters = ['A','B','C']\n",
    "lower_case = [ letter.lower() for letter in letters ]\n",
    "upper_case = [2, 6, 5, 6, 5, 6]\n",
    "\n",
    "print(*lower_case, sep=\" \")\n",
    "print(*upper_case, sep=\" \")\n",
    "\n",
    "\n",
    "\n",
    "\n",
    "\n"
   ]
  },
  {
   "cell_type": "code",
   "execution_count": 69,
   "metadata": {},
   "outputs": [
    {
     "name": "stdout",
     "output_type": "stream",
     "text": [
      "['5', '5', '5']\n",
      "['4', '2', '6', '4', '5', '5']\n",
      "Cheater!!! Or possibly made a typo...\n"
     ]
    }
   ],
   "source": [
    "arr = \"4 2 6 4 5 5\"\n",
    "rolls = [x for x in arr  if x != ' ' ]\n",
    "\n",
    "takes = [x for x in '555']\n",
    "\n",
    "\n",
    "\n",
    "print(takes)\n",
    "print(rolls)\n",
    "\n",
    "arr = []\n",
    "\n",
    "for i in rolls:\n",
    "    if i in takes:\n",
    "        arr.append(i)\n",
    "\n",
    "\n",
    "for i in rolls:\n",
    "    if takes.count(i) > rolls.count('5'):\n",
    "        print('Cheater!!! Or possibly made a typo...')\n",
    "        break\n",
    "\n",
    "\n"
   ]
  },
  {
   "cell_type": "code",
   "execution_count": null,
   "metadata": {},
   "outputs": [],
   "source": []
  },
  {
   "cell_type": "code",
   "execution_count": 70,
   "metadata": {},
   "outputs": [],
   "source": [
    "rollss = [\n",
    "    (tuple(), tuple()),\n",
    "    ((1,), (1,)),\n",
    "    ((1, 2), (1,)),\n",
    "    ((1, 2, 3), (1,)),\n",
    "    ((1, 2, 3, 5), (1, 5)),\n",
    "    ((5, 1, 2, 3), (1, 5)),\n",
    "    ((2, 3, 4), tuple()),\n",
    "]\n",
    "\n",
    "def test(rolls):\n",
    "    if len(rolls) == 0:\n",
    "        return tuple()\n",
    "    elif 1 in rolls and 5 not in rolls:\n",
    "        return tuple([1,])\n",
    "    elif 1 in rolls and 5 in rolls:\n",
    "        return tuple([1,5,])\n",
    "    else:\n",
    "        return tuple([])\n",
    "\n",
    "for i in rollss:\n",
    "    # print(i[0],i[1])\n",
    "    result = test(i[0])\n",
    "       \n",
    "\n",
    "\n",
    "\n",
    "\n",
    "\n"
   ]
  },
  {
   "cell_type": "code",
   "execution_count": 88,
   "metadata": {},
   "outputs": [
    {
     "name": "stdout",
     "output_type": "stream",
     "text": [
      "[5, 2, 3, 5, 4, 2]\n",
      "['5', '5', '5']\n"
     ]
    }
   ],
   "source": [
    "from collections import Counter\n",
    "\n",
    "arr = \"*** 5 2 3 5 4 2 ***\"\n",
    "\n",
    "rolls = [int(x) for x in rolls if x != '*' and x != ' ']\n",
    "takes = [x for x in '555']\n",
    "\n",
    "cheater_typo = False    \n",
    "rollsc = Counter(rolls)\n",
    "takes = Counter(takes)\n",
    "cheater_typo = False\n",
    "for key, value in takes.items():\n",
    "      if int(key) not in rolls:\n",
    "         cheater_typo = True\n",
    "         print('here')\n",
    "      else:\n",
    "         for k, v in rollsc.items():\n",
    "            if k == key:\n",
    "                  if v != value and len(takes > 1):\n",
    "                     cheater_typo = True\n",
    "\n",
    "if cheater_typo:\n",
    "      print('Cheater!!! Or possibly made a typo...')\n",
    "            \n",
    "            \n",
    "       \n",
    "        \n",
    "# print(len(rolls - takes) != 0)\n"
   ]
  },
  {
   "cell_type": "code",
   "execution_count": null,
   "metadata": {},
   "outputs": [],
   "source": []
  }
 ],
 "metadata": {
  "interpreter": {
   "hash": "41fb6f42c941f3fcf46e6a69fd3fab65529caaaede1028070cf8b768ae23d3b9"
  },
  "kernelspec": {
   "display_name": "Python 3.10.0 64-bit",
   "name": "python3"
  },
  "language_info": {
   "codemirror_mode": {
    "name": "ipython",
    "version": 3
   },
   "file_extension": ".py",
   "mimetype": "text/x-python",
   "name": "python",
   "nbconvert_exporter": "python",
   "pygments_lexer": "ipython3",
   "version": "3.10.0"
  },
  "orig_nbformat": 4
 },
 "nbformat": 4,
 "nbformat_minor": 2
}
